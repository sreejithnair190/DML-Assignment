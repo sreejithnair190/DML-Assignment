{
  "nbformat": 4,
  "nbformat_minor": 0,
  "metadata": {
    "colab": {
      "provenance": []
    },
    "kernelspec": {
      "name": "python3",
      "display_name": "Python 3"
    },
    "language_info": {
      "name": "python"
    }
  },
  "cells": [
    {
      "cell_type": "code",
      "source": [
        "import numpy\n",
        "\n",
        "def cal_pop_fitness(equation_inputs, pop):\n",
        "    fitness = numpy.sum(pop*equation_inputs, axis=1)\n",
        "    return fitness\n",
        "\n",
        "def select_mating_pool(pop, fitness, num_parents):\n",
        "    parents = numpy.empty((num_parents, pop.shape[1]))\n",
        "    for parent_num in range(num_parents):\n",
        "        max_fitness_idx = numpy.where(fitness == numpy.max(fitness))\n",
        "        max_fitness_idx = max_fitness_idx[0][0]\n",
        "        parents[parent_num, :] = pop[max_fitness_idx, :]\n",
        "        fitness[max_fitness_idx] = -99999999999\n",
        "    return parents\n",
        "\n",
        "def crossover(parents, offspring_size):\n",
        "    offspring = numpy.empty(offspring_size)\n",
        "    crossover_point = numpy.uint8(offspring_size[1]/2)\n",
        "\n",
        "    for k in range(offspring_size[0]):\n",
        "        parent1_idx = k%parents.shape[0]\n",
        "        parent2_idx = (k+1)%parents.shape[0]\n",
        "        offspring[k, 0:crossover_point] = parents[parent1_idx, 0:crossover_point]\n",
        "        offspring[k, crossover_point:] = parents[parent2_idx, crossover_point:]\n",
        "    return offspring\n",
        "\n",
        "def mutation(offspring_crossover):\n",
        "    for idx in range(offspring_crossover.shape[0]):\n",
        "        random_value = numpy.random.uniform(-1.0, 1.0, 1)\n",
        "        offspring_crossover[idx, 4] = offspring_crossover[idx, 4] + random_value\n",
        "    return offspring_crossover"
      ],
      "metadata": {
        "id": "T27ZNUus_Yfl"
      },
      "execution_count": 14,
      "outputs": []
    },
    {
      "cell_type": "code",
      "source": [
        "equation_inputs = [4,-2,3.5,5,-11,-4.7]\n",
        "num_weights = 6\n",
        "\n",
        "sol_per_pop = 8\n",
        "num_parents_mating = 4\n",
        "\n",
        "pop_size = (sol_per_pop,num_weights)\n",
        "\n",
        "new_population = numpy.random.uniform(low=-4.0, high=4.0, size=pop_size)\n",
        "print(new_population)"
      ],
      "metadata": {
        "colab": {
          "base_uri": "https://localhost:8080/"
        },
        "id": "cd6C-GZo_JRi",
        "outputId": "5f49f9d0-fdce-4e93-c7bf-2e69e4d53412"
      },
      "execution_count": 15,
      "outputs": [
        {
          "output_type": "stream",
          "name": "stdout",
          "text": [
            "[[-3.27680211 -3.61498895 -1.67775739  3.07305045  1.84269956 -2.55850356]\n",
            " [ 0.94371391 -3.4004872   3.52600131  2.01131915  1.58138591  0.02520977]\n",
            " [-1.81274795 -0.37748194  3.39386127 -3.89596397 -2.27007729  1.96550917]\n",
            " [-2.75731714 -2.77939654 -1.03812545  2.74800056  2.75492446  3.95194057]\n",
            " [-0.37362892  0.00505114 -3.13680222 -3.57245516 -0.87377118  0.16277582]\n",
            " [-0.40234857 -0.44141638  3.74235532 -0.10803903  0.77800297 -3.79858045]\n",
            " [ 1.73609806 -1.35645532 -3.07477208  3.75598665 -0.99667825 -1.93530495]\n",
            " [ 1.4691088  -0.11914008 -2.00090876  1.72968394 -1.91170481  1.93142003]]\n"
          ]
        }
      ]
    },
    {
      "cell_type": "code",
      "source": [
        "num_generations = 5\n",
        "for generation in range(num_generations):\n",
        "    print(\"Generation : \", generation)\n",
        "    fitness = cal_pop_fitness(equation_inputs, new_population)\n",
        "\n",
        "    parents = select_mating_pool(new_population, fitness, \n",
        "                                      num_parents_mating)\n",
        "    \n",
        "    offspring_crossover = crossover(parents,\n",
        "                                       offspring_size=(pop_size[0]-parents.shape[0], num_weights))\n",
        "\n",
        "    offspring_mutation = mutation(offspring_crossover)\n",
        "\n",
        "    new_population[0:parents.shape[0], :] = parents\n",
        "    new_population[parents.shape[0]:, :] = offspring_mutation\n",
        "\n",
        "    print(\"Best result : \", numpy.max(numpy.sum(new_population*equation_inputs, axis=1)))"
      ],
      "metadata": {
        "colab": {
          "base_uri": "https://localhost:8080/"
        },
        "id": "1KapjidmB0g_",
        "outputId": "38c13d83-aeeb-4e8a-a6aa-7ce043798deb"
      },
      "execution_count": 16,
      "outputs": [
        {
          "output_type": "stream",
          "name": "stdout",
          "text": [
            "Generation :  0\n",
            "Best result :  58.06914899964569\n",
            "Generation :  1\n",
            "Best result :  69.5795747848225\n",
            "Generation :  2\n",
            "Best result :  69.5795747848225\n",
            "Generation :  3\n",
            "Best result :  69.85680174025943\n",
            "Generation :  4\n",
            "Best result :  75.99682850500616\n"
          ]
        }
      ]
    },
    {
      "cell_type": "code",
      "source": [
        "fitness = cal_pop_fitness(equation_inputs, new_population)\n",
        "best_match_idx = numpy.where(fitness == numpy.max(fitness))\n",
        "print(\"Best solution : \", new_population[best_match_idx, :])\n",
        "print(\"Best solution fitness : \", fitness[best_match_idx])"
      ],
      "metadata": {
        "colab": {
          "base_uri": "https://localhost:8080/"
        },
        "id": "GeXw016aASwV",
        "outputId": "9a990871-e452-44ca-fb00-7aaf52eebd87"
      },
      "execution_count": 13,
      "outputs": [
        {
          "output_type": "stream",
          "name": "stdout",
          "text": [
            "Best solution :  [[[ 0.81473135 -3.38740212  3.62437429  3.9181553  -5.18457246\n",
            "   -0.31420596]]]\n",
            "Best solution fitness :  [100.81688124]\n"
          ]
        }
      ]
    }
  ]
}